{
 "cells": [
  {
   "cell_type": "code",
   "execution_count": 1,
   "id": "d07eacae",
   "metadata": {},
   "outputs": [],
   "source": [
    "import numpy as np\n",
    "import matplotlib.pyplot as plt\n",
    "import pandas as pd\n",
    "import math\n",
    "import datetime as dt\n",
    "import seaborn as sns\n",
    "from sklearn.preprocessing import MinMaxScaler\n",
    "\n",
    "from tensorflow.keras import Sequential\n",
    "from tensorflow.keras.layers import Input, Dense, LSTM, GRU, Dropout, Masking, Flatten,  BatchNormalization\n",
    "from keras.models import Model\n",
    "\n",
    "from sklearn.metrics import mean_squared_error, mean_absolute_error, explained_variance_score, r2_score"
   ]
  },
  {
   "cell_type": "code",
   "execution_count": 2,
   "id": "bf793b05",
   "metadata": {},
   "outputs": [
    {
     "data": {
      "text/html": [
       "<div>\n",
       "<style scoped>\n",
       "    .dataframe tbody tr th:only-of-type {\n",
       "        vertical-align: middle;\n",
       "    }\n",
       "\n",
       "    .dataframe tbody tr th {\n",
       "        vertical-align: top;\n",
       "    }\n",
       "\n",
       "    .dataframe thead th {\n",
       "        text-align: right;\n",
       "    }\n",
       "</style>\n",
       "<table border=\"1\" class=\"dataframe\">\n",
       "  <thead>\n",
       "    <tr style=\"text-align: right;\">\n",
       "      <th></th>\n",
       "      <th>date</th>\n",
       "      <th>close</th>\n",
       "      <th>high</th>\n",
       "      <th>low</th>\n",
       "      <th>open</th>\n",
       "      <th>volume</th>\n",
       "      <th>adjClose</th>\n",
       "      <th>adjHigh</th>\n",
       "      <th>adjLow</th>\n",
       "      <th>adjOpen</th>\n",
       "      <th>adjVolume</th>\n",
       "      <th>divCash</th>\n",
       "      <th>splitFactor</th>\n",
       "    </tr>\n",
       "  </thead>\n",
       "  <tbody>\n",
       "    <tr>\n",
       "      <th>0</th>\n",
       "      <td>2018-05-07T00:00:00.000Z</td>\n",
       "      <td>1.59</td>\n",
       "      <td>1.64</td>\n",
       "      <td>1.56</td>\n",
       "      <td>1.58</td>\n",
       "      <td>1022901</td>\n",
       "      <td>6.36</td>\n",
       "      <td>6.56</td>\n",
       "      <td>6.24</td>\n",
       "      <td>6.32</td>\n",
       "      <td>255725</td>\n",
       "      <td>0</td>\n",
       "      <td>1.0</td>\n",
       "    </tr>\n",
       "    <tr>\n",
       "      <th>1</th>\n",
       "      <td>2018-05-08T00:00:00.000Z</td>\n",
       "      <td>1.45</td>\n",
       "      <td>1.59</td>\n",
       "      <td>1.45</td>\n",
       "      <td>1.56</td>\n",
       "      <td>1709558</td>\n",
       "      <td>5.80</td>\n",
       "      <td>6.36</td>\n",
       "      <td>5.80</td>\n",
       "      <td>6.24</td>\n",
       "      <td>427389</td>\n",
       "      <td>0</td>\n",
       "      <td>1.0</td>\n",
       "    </tr>\n",
       "    <tr>\n",
       "      <th>2</th>\n",
       "      <td>2018-05-09T00:00:00.000Z</td>\n",
       "      <td>1.51</td>\n",
       "      <td>1.58</td>\n",
       "      <td>1.46</td>\n",
       "      <td>1.48</td>\n",
       "      <td>1169407</td>\n",
       "      <td>6.04</td>\n",
       "      <td>6.32</td>\n",
       "      <td>5.84</td>\n",
       "      <td>5.92</td>\n",
       "      <td>292351</td>\n",
       "      <td>0</td>\n",
       "      <td>1.0</td>\n",
       "    </tr>\n",
       "    <tr>\n",
       "      <th>3</th>\n",
       "      <td>2018-05-10T00:00:00.000Z</td>\n",
       "      <td>1.43</td>\n",
       "      <td>1.54</td>\n",
       "      <td>1.40</td>\n",
       "      <td>1.51</td>\n",
       "      <td>1111632</td>\n",
       "      <td>5.72</td>\n",
       "      <td>6.16</td>\n",
       "      <td>5.60</td>\n",
       "      <td>6.04</td>\n",
       "      <td>277908</td>\n",
       "      <td>0</td>\n",
       "      <td>1.0</td>\n",
       "    </tr>\n",
       "    <tr>\n",
       "      <th>4</th>\n",
       "      <td>2018-05-11T00:00:00.000Z</td>\n",
       "      <td>1.37</td>\n",
       "      <td>1.42</td>\n",
       "      <td>1.35</td>\n",
       "      <td>1.35</td>\n",
       "      <td>921190</td>\n",
       "      <td>5.48</td>\n",
       "      <td>5.68</td>\n",
       "      <td>5.40</td>\n",
       "      <td>5.40</td>\n",
       "      <td>230297</td>\n",
       "      <td>0</td>\n",
       "      <td>1.0</td>\n",
       "    </tr>\n",
       "  </tbody>\n",
       "</table>\n",
       "</div>"
      ],
      "text/plain": [
       "                       date  close  high   low  open   volume  adjClose  \\\n",
       "0  2018-05-07T00:00:00.000Z   1.59  1.64  1.56  1.58  1022901      6.36   \n",
       "1  2018-05-08T00:00:00.000Z   1.45  1.59  1.45  1.56  1709558      5.80   \n",
       "2  2018-05-09T00:00:00.000Z   1.51  1.58  1.46  1.48  1169407      6.04   \n",
       "3  2018-05-10T00:00:00.000Z   1.43  1.54  1.40  1.51  1111632      5.72   \n",
       "4  2018-05-11T00:00:00.000Z   1.37  1.42  1.35  1.35   921190      5.48   \n",
       "\n",
       "   adjHigh  adjLow  adjOpen  adjVolume  divCash  splitFactor  \n",
       "0     6.56    6.24     6.32     255725        0          1.0  \n",
       "1     6.36    5.80     6.24     427389        0          1.0  \n",
       "2     6.32    5.84     5.92     292351        0          1.0  \n",
       "3     6.16    5.60     6.04     277908        0          1.0  \n",
       "4     5.68    5.40     5.40     230297        0          1.0  "
      ]
     },
     "execution_count": 2,
     "metadata": {},
     "output_type": "execute_result"
    }
   ],
   "source": [
    "# Read in the dataset\n",
    "data = pd.read_csv('MARA_DATA.csv', date_parser = True)\n",
    "data.head(5)"
   ]
  },
  {
   "cell_type": "code",
   "execution_count": 3,
   "id": "93180c8e",
   "metadata": {},
   "outputs": [],
   "source": [
    "#Replace None or Null values with forward filling technique using fillna function.\n",
    "data = data.fillna(method = 'ffill')\n",
    "\n",
    "#Convert Date column into Datatime format\n",
    "data['date'] = pd.to_datetime(data.date)"
   ]
  },
  {
   "cell_type": "code",
   "execution_count": 4,
   "id": "240161fc",
   "metadata": {},
   "outputs": [
    {
     "data": {
      "image/png": "[encoded data removed]",
      "text/plain": [
       "<Figure size 1000x400 with 1 Axes>"
      ]
     },
     "metadata": {},
     "output_type": "display_data"
    }
   ],
   "source": [
    "# Visualize the close price history\n",
    "plt.figure(figsize=(10, 4))\n",
    "plt.plot(data['date'], data['close'], color=\"green\")\n",
    "plt.title('MARA Close Price')\n",
    "plt.xlabel(\"Time\", fontsize=14,)\n",
    "plt.ylabel(\"USDT\", fontsize=14)\n",
    "plt.show()"
   ]
  },
  {
   "cell_type": "code",
   "execution_count": 5,
   "id": "3d1ac97e",
   "metadata": {},
   "outputs": [],
   "source": [
    "# Set date column as index\n",
    "data.set_index(\"date\", inplace=True) "
   ]
  },
  {
   "cell_type": "code",
   "execution_count": 6,
   "id": "953dfcdb",
   "metadata": {},
   "outputs": [],
   "source": [
    "# calculate the number of rows in 80% of the data\n",
    "n_rows = int(0.8 * len(data))\n",
    "\n",
    "# select the first 80% of the data\n",
    "train = data.iloc[:n_rows, :]\n",
    "\n",
    "# calculate the number of rows in 20% of the data\n",
    "n_rows = int(0.2 * len(data))\n",
    "\n",
    "# select the first 20% of the data\n",
    "test = data.iloc[:n_rows, :]"
   ]
  },
  {
   "cell_type": "code",
   "execution_count": 7,
   "id": "6f67d0c1",
   "metadata": {},
   "outputs": [
    {
     "data": {
      "text/html": [
       "<div>\n",
       "<style scoped>\n",
       "    .dataframe tbody tr th:only-of-type {\n",
       "        vertical-align: middle;\n",
       "    }\n",
       "\n",
       "    .dataframe tbody tr th {\n",
       "        vertical-align: top;\n",
       "    }\n",
       "\n",
       "    .dataframe thead th {\n",
       "        text-align: right;\n",
       "    }\n",
       "</style>\n",
       "<table border=\"1\" class=\"dataframe\">\n",
       "  <thead>\n",
       "    <tr style=\"text-align: right;\">\n",
       "      <th></th>\n",
       "      <th>close</th>\n",
       "      <th>high</th>\n",
       "      <th>low</th>\n",
       "      <th>open</th>\n",
       "      <th>volume</th>\n",
       "      <th>adjClose</th>\n",
       "      <th>adjHigh</th>\n",
       "      <th>adjLow</th>\n",
       "      <th>adjOpen</th>\n",
       "      <th>adjVolume</th>\n",
       "    </tr>\n",
       "    <tr>\n",
       "      <th>date</th>\n",
       "      <th></th>\n",
       "      <th></th>\n",
       "      <th></th>\n",
       "      <th></th>\n",
       "      <th></th>\n",
       "      <th></th>\n",
       "      <th></th>\n",
       "      <th></th>\n",
       "      <th></th>\n",
       "      <th></th>\n",
       "    </tr>\n",
       "  </thead>\n",
       "  <tbody>\n",
       "    <tr>\n",
       "      <th>2018-05-07 00:00:00+00:00</th>\n",
       "      <td>1.59</td>\n",
       "      <td>1.64</td>\n",
       "      <td>1.56</td>\n",
       "      <td>1.58</td>\n",
       "      <td>1022901</td>\n",
       "      <td>6.36</td>\n",
       "      <td>6.56</td>\n",
       "      <td>6.24</td>\n",
       "      <td>6.32</td>\n",
       "      <td>255725</td>\n",
       "    </tr>\n",
       "    <tr>\n",
       "      <th>2018-05-08 00:00:00+00:00</th>\n",
       "      <td>1.45</td>\n",
       "      <td>1.59</td>\n",
       "      <td>1.45</td>\n",
       "      <td>1.56</td>\n",
       "      <td>1709558</td>\n",
       "      <td>5.80</td>\n",
       "      <td>6.36</td>\n",
       "      <td>5.80</td>\n",
       "      <td>6.24</td>\n",
       "      <td>427389</td>\n",
       "    </tr>\n",
       "    <tr>\n",
       "      <th>2018-05-09 00:00:00+00:00</th>\n",
       "      <td>1.51</td>\n",
       "      <td>1.58</td>\n",
       "      <td>1.46</td>\n",
       "      <td>1.48</td>\n",
       "      <td>1169407</td>\n",
       "      <td>6.04</td>\n",
       "      <td>6.32</td>\n",
       "      <td>5.84</td>\n",
       "      <td>5.92</td>\n",
       "      <td>292351</td>\n",
       "    </tr>\n",
       "    <tr>\n",
       "      <th>2018-05-10 00:00:00+00:00</th>\n",
       "      <td>1.43</td>\n",
       "      <td>1.54</td>\n",
       "      <td>1.40</td>\n",
       "      <td>1.51</td>\n",
       "      <td>1111632</td>\n",
       "      <td>5.72</td>\n",
       "      <td>6.16</td>\n",
       "      <td>5.60</td>\n",
       "      <td>6.04</td>\n",
       "      <td>277908</td>\n",
       "    </tr>\n",
       "    <tr>\n",
       "      <th>2018-05-11 00:00:00+00:00</th>\n",
       "      <td>1.37</td>\n",
       "      <td>1.42</td>\n",
       "      <td>1.35</td>\n",
       "      <td>1.35</td>\n",
       "      <td>921190</td>\n",
       "      <td>5.48</td>\n",
       "      <td>5.68</td>\n",
       "      <td>5.40</td>\n",
       "      <td>5.40</td>\n",
       "      <td>230297</td>\n",
       "    </tr>\n",
       "  </tbody>\n",
       "</table>\n",
       "</div>"
      ],
      "text/plain": [
       "                           close  high   low  open   volume  adjClose  \\\n",
       "date                                                                    \n",
       "2018-05-07 00:00:00+00:00   1.59  1.64  1.56  1.58  1022901      6.36   \n",
       "2018-05-08 00:00:00+00:00   1.45  1.59  1.45  1.56  1709558      5.80   \n",
       "2018-05-09 00:00:00+00:00   1.51  1.58  1.46  1.48  1169407      6.04   \n",
       "2018-05-10 00:00:00+00:00   1.43  1.54  1.40  1.51  1111632      5.72   \n",
       "2018-05-11 00:00:00+00:00   1.37  1.42  1.35  1.35   921190      5.48   \n",
       "\n",
       "                           adjHigh  adjLow  adjOpen  adjVolume  \n",
       "date                                                            \n",
       "2018-05-07 00:00:00+00:00     6.56    6.24     6.32     255725  \n",
       "2018-05-08 00:00:00+00:00     6.36    5.80     6.24     427389  \n",
       "2018-05-09 00:00:00+00:00     6.32    5.84     5.92     292351  \n",
       "2018-05-10 00:00:00+00:00     6.16    5.60     6.04     277908  \n",
       "2018-05-11 00:00:00+00:00     5.68    5.40     5.40     230297  "
      ]
     },
     "execution_count": 7,
     "metadata": {},
     "output_type": "execute_result"
    }
   ],
   "source": [
    "#feature selection\n",
    "train = train.drop(['divCash', 'splitFactor'], axis = 1)\n",
    "train.head()"
   ]
  },
  {
   "cell_type": "code",
   "execution_count": 8,
   "id": "4b73b92d",
   "metadata": {},
   "outputs": [],
   "source": [
    "# Initialize the MinMaxScaler object to scale the input data to the range (0, 1)\n",
    "scaler = MinMaxScaler()\n",
    "\n",
    "# Use the scaler object to normalize the input data\n",
    "train_scaled = scaler.fit_transform(train)"
   ]
  },
  {
   "cell_type": "code",
   "execution_count": 9,
   "id": "19c62534",
   "metadata": {},
   "outputs": [],
   "source": [
    "# Next, we initialize empty lists to hold the input sequences and target values\n",
    "X_train = []\n",
    "y_train = []\n",
    "\n",
    "# We set the sequence length to 60 time steps\n",
    "window_size = 60\n",
    "\n",
    "# The number of features in the input data is obtained from the shape of the scaled input data\n",
    "num_features = train_scaled.shape[1]"
   ]
  },
  {
   "cell_type": "code",
   "execution_count": 10,
   "id": "97fa2f6e",
   "metadata": {},
   "outputs": [],
   "source": [
    "# We loop through the normalized input data, creating sequences of 60 time steps with the corresponding target value\n",
    "\n",
    "for i in range(window_size, train_scaled.shape[0]):\n",
    "    X_train.append(train_scaled[i-window_size:i])\n",
    "    y_train.append(train_scaled[i,0])"
   ]
  },
  {
   "cell_type": "code",
   "execution_count": 11,
   "id": "c702cf0d",
   "metadata": {},
   "outputs": [
    {
     "name": "stdout",
     "output_type": "stream",
     "text": [
      "X_train:  (944, 60, 10)\n",
      "y_train:  (944,)\n"
     ]
    }
   ],
   "source": [
    "# Convert the input sequences and target values to numpy arrays for training the neural network\n",
    "X_train, y_train = np.array(X_train), np.array(y_train)\n",
    "\n",
    "# Finally, we print the shapes of the input data and target values to verify that the data is in the correct format for training\n",
    "print(\"X_train: \", X_train.shape)\n",
    "print(\"y_train: \", y_train.shape)"
   ]
  },
  {
   "cell_type": "code",
   "execution_count": 12,
   "id": "71990eee",
   "metadata": {},
   "outputs": [
    {
     "name": "stdout",
     "output_type": "stream",
     "text": [
      "Model: \"sequential\"\n",
      "_________________________________________________________________\n",
      " Layer (type)                Output Shape              Param #   \n",
      "=================================================================\n",
      " masking (Masking)           (None, 60, 10)            0         \n",
      "                                                                 \n",
      " gru (GRU)                   (None, 60, 64)            14592     \n",
      "                                                                 \n",
      " dropout (Dropout)           (None, 60, 64)            0         \n",
      "                                                                 \n",
      " batch_normalization (BatchN  (None, 60, 64)           256       \n",
      " ormalization)                                                   \n",
      "                                                                 \n",
      " gru_1 (GRU)                 (None, 60, 32)            9408      \n",
      "                                                                 \n",
      " dropout_1 (Dropout)         (None, 60, 32)            0         \n",
      "                                                                 \n",
      " batch_normalization_1 (Batc  (None, 60, 32)           128       \n",
      " hNormalization)                                                 \n",
      "                                                                 \n",
      " gru_2 (GRU)                 (None, 16)                2400      \n",
      "                                                                 \n",
      " dense (Dense)               (None, 16)                272       \n",
      "                                                                 \n",
      " dropout_2 (Dropout)         (None, 16)                0         \n",
      "                                                                 \n",
      " dense_1 (Dense)             (None, 1)                 17        \n",
      "                                                                 \n",
      "=================================================================\n",
      "Total params: 27,073\n",
      "Trainable params: 26,881\n",
      "Non-trainable params: 192\n",
      "_________________________________________________________________\n"
     ]
    }
   ],
   "source": [
    "#Define the GRU based hybrid model architecture\n",
    "\n",
    "model = Sequential()\n",
    "    \n",
    "# Adding a Masking layer to ignore zero padding\n",
    "model.add(Masking(mask_value=0.0, input_shape=(window_size, num_features)))\n",
    "\n",
    "# Adding a GRU layer with 64 units and \"tanh\" activation\n",
    "model.add(GRU(64, activation='tanh', return_sequences=True))\n",
    "\n",
    "# Adding a dropout layer with rate 0.2\n",
    "model.add(Dropout(0.2))\n",
    "\n",
    "# Adding a batch normalization layer to improve convergence\n",
    "model.add(BatchNormalization())\n",
    "\n",
    "# Adding another GRU layer with 32 units and \"tanh\" activation\n",
    "model.add(GRU(32, activation='tanh', return_sequences=True))\n",
    "\n",
    "# Adding a dropout layer with rate 0.2\n",
    "model.add(Dropout(0.2))\n",
    "\n",
    "# Adding a batch normalization layer to improve convergence\n",
    "model.add(BatchNormalization())\n",
    "\n",
    "# Adding a third GRU layer with 16 units and \"tanh\" activation\n",
    "model.add(GRU(16, activation='tanh', return_sequences=False))\n",
    "\n",
    "# Adding a dense layer with 16 units and ReLU activation\n",
    "model.add(Dense(16, activation='relu'))\n",
    "\n",
    "# Adding a dropout layer with rate 0.2\n",
    "model.add(Dropout(0.2))\n",
    "\n",
    "# Adding a dense layer with 1 unit and linear activation for regression\n",
    "model.add(Dense(1, activation='linear'))\n",
    "\n",
    "# We print the summary of the model architecture\n",
    "model.summary()\n"
   ]
  },
  {
   "cell_type": "code",
   "execution_count": 13,
   "id": "f0349b77",
   "metadata": {},
   "outputs": [
    {
     "name": "stdout",
     "output_type": "stream",
     "text": [
      "Epoch 1/50\n",
      "30/30 [==============================] - 9s 31ms/step - loss: 0.0922\n",
      "Epoch 2/50\n",
      "30/30 [==============================] - 1s 19ms/step - loss: 0.0300\n",
      "Epoch 3/50\n",
      "30/30 [==============================] - 1s 17ms/step - loss: 0.0197\n",
      "Epoch 4/50\n",
      "30/30 [==============================] - 1s 17ms/step - loss: 0.0147\n",
      "Epoch 5/50\n",
      "30/30 [==============================] - 0s 16ms/step - loss: 0.0119\n",
      "Epoch 6/50\n",
      "30/30 [==============================] - 0s 16ms/step - loss: 0.0093\n",
      "Epoch 7/50\n",
      "30/30 [==============================] - 0s 16ms/step - loss: 0.0092\n",
      "Epoch 8/50\n",
      "30/30 [==============================] - 0s 16ms/step - loss: 0.0080\n",
      "Epoch 9/50\n",
      "30/30 [==============================] - 0s 16ms/step - loss: 0.0084\n",
      "Epoch 10/50\n",
      "30/30 [==============================] - 0s 16ms/step - loss: 0.0067\n",
      "Epoch 11/50\n",
      "30/30 [==============================] - 0s 16ms/step - loss: 0.0079\n",
      "Epoch 12/50\n",
      "30/30 [==============================] - 0s 16ms/step - loss: 0.0063\n",
      "Epoch 13/50\n",
      "30/30 [==============================] - 0s 16ms/step - loss: 0.0076\n",
      "Epoch 14/50\n",
      "30/30 [==============================] - 1s 17ms/step - loss: 0.0070\n",
      "Epoch 15/50\n",
      "30/30 [==============================] - 1s 17ms/step - loss: 0.0066\n",
      "Epoch 16/50\n",
      "30/30 [==============================] - 1s 17ms/step - loss: 0.0062\n",
      "Epoch 17/50\n",
      "30/30 [==============================] - 0s 17ms/step - loss: 0.0051\n",
      "Epoch 18/50\n",
      "30/30 [==============================] - 1s 17ms/step - loss: 0.0061\n",
      "Epoch 19/50\n",
      "30/30 [==============================] - 1s 17ms/step - loss: 0.0052\n",
      "Epoch 20/50\n",
      "30/30 [==============================] - 0s 16ms/step - loss: 0.0047\n",
      "Epoch 21/50\n",
      "30/30 [==============================] - 0s 16ms/step - loss: 0.0054\n",
      "Epoch 22/50\n",
      "30/30 [==============================] - 1s 17ms/step - loss: 0.0053\n",
      "Epoch 23/50\n",
      "30/30 [==============================] - 1s 17ms/step - loss: 0.0051\n",
      "Epoch 24/50\n",
      "30/30 [==============================] - 1s 17ms/step - loss: 0.0045\n",
      "Epoch 25/50\n",
      "30/30 [==============================] - 0s 17ms/step - loss: 0.0045\n",
      "Epoch 26/50\n",
      "30/30 [==============================] - 1s 17ms/step - loss: 0.0037\n",
      "Epoch 27/50\n",
      "30/30 [==============================] - 0s 16ms/step - loss: 0.0048\n",
      "Epoch 28/50\n",
      "30/30 [==============================] - 1s 17ms/step - loss: 0.0050\n",
      "Epoch 29/50\n",
      "30/30 [==============================] - 1s 17ms/step - loss: 0.0039\n",
      "Epoch 30/50\n",
      "30/30 [==============================] - 1s 17ms/step - loss: 0.0044\n",
      "Epoch 31/50\n",
      "30/30 [==============================] - 0s 17ms/step - loss: 0.0045\n",
      "Epoch 32/50\n",
      "30/30 [==============================] - 1s 17ms/step - loss: 0.0044\n",
      "Epoch 33/50\n",
      "30/30 [==============================] - 0s 16ms/step - loss: 0.0047\n",
      "Epoch 34/50\n",
      "30/30 [==============================] - 1s 17ms/step - loss: 0.0040\n",
      "Epoch 35/50\n",
      "30/30 [==============================] - 0s 16ms/step - loss: 0.0049\n",
      "Epoch 36/50\n",
      "30/30 [==============================] - 1s 17ms/step - loss: 0.0047\n",
      "Epoch 37/50\n",
      "30/30 [==============================] - 0s 17ms/step - loss: 0.0047\n",
      "Epoch 38/50\n",
      "30/30 [==============================] - 1s 17ms/step - loss: 0.0043\n",
      "Epoch 39/50\n",
      "30/30 [==============================] - 0s 16ms/step - loss: 0.0036\n",
      "Epoch 40/50\n",
      "30/30 [==============================] - 0s 17ms/step - loss: 0.0044\n",
      "Epoch 41/50\n",
      "30/30 [==============================] - 0s 16ms/step - loss: 0.0037\n",
      "Epoch 42/50\n",
      "30/30 [==============================] - 0s 16ms/step - loss: 0.0047\n",
      "Epoch 43/50\n",
      "30/30 [==============================] - 0s 16ms/step - loss: 0.0038\n",
      "Epoch 44/50\n",
      "30/30 [==============================] - 0s 17ms/step - loss: 0.0033\n",
      "Epoch 45/50\n",
      "30/30 [==============================] - 1s 17ms/step - loss: 0.0041\n",
      "Epoch 46/50\n",
      "30/30 [==============================] - 1s 17ms/step - loss: 0.0039\n",
      "Epoch 47/50\n",
      "30/30 [==============================] - 1s 17ms/step - loss: 0.0038\n",
      "Epoch 48/50\n",
      "30/30 [==============================] - 0s 16ms/step - loss: 0.0039\n",
      "Epoch 49/50\n",
      "30/30 [==============================] - 0s 16ms/step - loss: 0.0031\n",
      "Epoch 50/50\n",
      "30/30 [==============================] - 0s 16ms/step - loss: 0.0032\n"
     ]
    }
   ],
   "source": [
    "# We compile the model using the Adam optimizer and the mean squared error loss function\n",
    "model.compile(optimizer = 'adam', loss = 'mean_squared_error')\n",
    "\n",
    "# We train the model using the fit() function, passing in the input sequences (X_train) and target values (y_train) as well as the number of epochs and batch size\n",
    "history = model.fit(X_train, y_train, epochs = 50, batch_size =32)"
   ]
  },
  {
   "cell_type": "code",
   "execution_count": 14,
   "id": "6f784dd2",
   "metadata": {},
   "outputs": [
    {
     "data": {
      "image/png": "[encoded data removed]",
      "text/plain": [
       "<Figure size 640x480 with 1 Axes>"
      ]
     },
     "metadata": {},
     "output_type": "display_data"
    },
    {
     "data": {
      "text/plain": [
       "<Figure size 640x480 with 0 Axes>"
      ]
     },
     "metadata": {},
     "output_type": "display_data"
    }
   ],
   "source": [
    "# We first extract the training loss values from the `history` object returned by the `model.fit()` function.\n",
    "loss = history.history['loss']\n",
    "\n",
    "# We create a range object with the same length as the number of epochs.\n",
    "epochs = range(len(loss))\n",
    "\n",
    "# We plot the training loss as a function of the epochs using Matplotlib.\n",
    "plt.plot(epochs, loss, 'b', label='Training loss')\n",
    "plt.title('Training loss')\n",
    "plt.legend(loc=0)\n",
    "plt.figure()\n",
    "\n",
    "# We display the plot.\n",
    "plt.show()"
   ]
  },
  {
   "cell_type": "code",
   "execution_count": 15,
   "id": "d9e6c023",
   "metadata": {},
   "outputs": [],
   "source": [
    "# We drop some unnecessary columns from the test data.\n",
    "test = test.drop(['divCash', 'splitFactor'], axis = 1)\n",
    "\n",
    "# We normalize the test data using the same scaler that was used to normalize the training data.\n",
    "test_scaled = scaler.transform(test)"
   ]
  },
  {
   "cell_type": "code",
   "execution_count": 16,
   "id": "db26f7b9",
   "metadata": {},
   "outputs": [],
   "source": [
    "# We create empty lists to store the input and output data.\n",
    "X_test = []\n",
    "y_test = []\n",
    "\n",
    "# We loop through the test data and create input sequences and corresponding output values.\n",
    "for i in range (window_size, test_scaled.shape[0]):\n",
    "    X_test.append(test_scaled[i-window_size:i])\n",
    "    y_test.append(test_scaled[i, 0])"
   ]
  },
  {
   "cell_type": "code",
   "execution_count": 17,
   "id": "54984db5",
   "metadata": {},
   "outputs": [
    {
     "name": "stdout",
     "output_type": "stream",
     "text": [
      "X_test:  (191, 60, 10)\n",
      "y_test:  (191,)\n"
     ]
    }
   ],
   "source": [
    "# We convert the input and output data to NumPy arrays.\n",
    "X_test, y_test = np.array(X_test), np.array(y_test)\n",
    "\n",
    "# We print the shapes of the input and output data.\n",
    "print(\"X_test: \", X_test.shape)\n",
    "print(\"y_test: \", y_test.shape)"
   ]
  },
  {
   "cell_type": "code",
   "execution_count": 18,
   "id": "1ce3334f",
   "metadata": {},
   "outputs": [
    {
     "name": "stdout",
     "output_type": "stream",
     "text": [
      "6/6 [==============================] - 2s 10ms/step\n"
     ]
    }
   ],
   "source": [
    "# We use the trained model to make predictions on the test data.\n",
    "y_pred = model.predict(X_test)"
   ]
  },
  {
   "cell_type": "code",
   "execution_count": 19,
   "id": "8845d011",
   "metadata": {},
   "outputs": [
    {
     "name": "stdout",
     "output_type": "stream",
     "text": [
      "MSE: 0.00029215\n"
     ]
    }
   ],
   "source": [
    "# We compute the mean squared error between the true output values and the predicted output values.\n",
    "mse = mean_squared_error(y_test, y_pred)\n",
    "\n",
    "# We print the mean squared error.\n",
    "print(\"MSE: {:.8f}\".format(mse))\n"
   ]
  },
  {
   "cell_type": "code",
   "execution_count": 20,
   "id": "0f39826b",
   "metadata": {},
   "outputs": [
    {
     "data": {
      "image/png": "[encoded data removed]",
      "text/plain": [
       "<Figure size 1400x500 with 1 Axes>"
      ]
     },
     "metadata": {},
     "output_type": "display_data"
    }
   ],
   "source": [
    "# We create a figure with a specific size.\n",
    "plt.figure(figsize=(14,5))\n",
    "\n",
    "# We plot the actual MARA prices in red and the predicted MARA prices in green.\n",
    "plt.plot(y_test, color = 'red', label = 'Actual MARA Price')\n",
    "plt.plot(y_pred, color = 'green', label = 'Predicted MARA Price')\n",
    "\n",
    "# We add a title and axis labels to the plot.\n",
    "plt.title('MARA Price Prediction using Hybrid GRU')\n",
    "plt.xlabel('Time')\n",
    "plt.ylabel('Price')\n",
    "\n",
    "# We add a legend to the plot.\n",
    "plt.legend()\n",
    "\n",
    "# We display the plot.\n",
    "plt.show()"
   ]
  },
  {
   "cell_type": "code",
   "execution_count": null,
   "id": "05dcfe9b",
   "metadata": {},
   "outputs": [],
   "source": []
  }
 ],
 "metadata": {
  "kernelspec": {
   "display_name": "Python 3 (ipykernel)",
   "language": "python",
   "name": "python3"
  },
  "language_info": {
   "codemirror_mode": {
    "name": "ipython",
    "version": 3
   },
   "file_extension": ".py",
   "mimetype": "text/x-python",
   "name": "python",
   "nbconvert_exporter": "python",
   "pygments_lexer": "ipython3",
   "version": "3.10.9"
  }
 },
 "nbformat": 4,
 "nbformat_minor": 5
}
